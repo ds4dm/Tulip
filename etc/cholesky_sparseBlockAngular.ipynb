{
 "cells": [
  {
   "cell_type": "code",
   "execution_count": 1,
   "metadata": {
    "collapsed": true
   },
   "outputs": [],
   "source": [
    "using BenchmarkTools"
   ]
  },
  {
   "cell_type": "markdown",
   "metadata": {},
   "source": [
    "# Sparse linear algebra"
   ]
  },
  {
   "cell_type": "code",
   "execution_count": null,
   "metadata": {
    "collapsed": true
   },
   "outputs": [],
   "source": [
    "\"\"\"\n",
    "    CpBDBt!(C, B, d)\n",
    "\n",
    "    Compute C += B*D*B'\n",
    "        where B' is the transpose of B, and D = diag(d1, ..., dn)\n",
    "        and B is mxn dense, C is mxm (dense), d is nx1 (dense).\n",
    "\n",
    "    C is modified in-place (no memory allocated),\n",
    "    only its upper-triangular part is modified.\n",
    "\"\"\"\n",
    "function CpBDBt!(C::Array{T,2}, B::SparseMatrixCSC{T,Int64}, d::Array{T, 1}) where T\n",
    "    \n",
    "    m, k = B.m, B.n\n",
    "    \n",
    "    # TODO: remove @assert macro, and throw error instead\n",
    "    @assert (m, m) == size(C)\n",
    "    @assert (k,) == size(d)\n",
    "    \n",
    "    # compute symmetric rank-k update\n",
    "    # only the upper-triangular part of C is modified\n",
    "    temp = zero(T)\n",
    "    for j=1:m\n",
    "        for l = 1:k\n",
    "            @inbounds temp = d[l] * B[j, l]\n",
    "            if temp == zero(T)\n",
    "                # skip loop if temp is zero\n",
    "                continue \n",
    "            end\n",
    "            for i=1:j\n",
    "                @inbounds C[i, j] = C[i, j] + temp * B[i, l]\n",
    "            end\n",
    "        end\n",
    "    end\n",
    "    \n",
    "    return nothing\n",
    "end"
   ]
  },
  {
   "cell_type": "markdown",
   "metadata": {},
   "source": [
    "# Data structures"
   ]
  },
  {
   "cell_type": "code",
   "execution_count": null,
   "metadata": {
    "collapsed": true
   },
   "outputs": [],
   "source": [
    "struct SparseBlockAngular{T}\n",
    "    m::Int  # number of linking constraints\n",
    "    n::Int  # number of columns (total)\n",
    "    R::Int  # number of blocks\n",
    "\n",
    "    ncols::Array{Int64, 1}  # number of columns in each block [n_1, ..., n_R]\n",
    "    cols::Array{SparseMatrixCSC{T,Int64}, 1}  # blocks of (sparse) columns [A_1, ..., A_R]\n",
    "end"
   ]
  },
  {
   "cell_type": "code",
   "execution_count": null,
   "metadata": {
    "collapsed": true
   },
   "outputs": [],
   "source": [
    "# (Implicit) Cholesky factor of ADA' where A is primal block-angular\n",
    "mutable struct FactorSparseBlockAngular{T}\n",
    "    m::Int  # number of linking constraints\n",
    "    n::Int  # number of columns (total)\n",
    "    R::Int  # number of blocks\n",
    "    ncols::Array{Int64, 1}  # number of columns in each block [n_1, ..., n_{R}]\n",
    "    \n",
    "    \n",
    "    d::Array{T, 1}  # Rx1 vector\n",
    "    eta::SparseMatrixCSC{T,Int64}  # mxR sparse matrix\n",
    "    \n",
    "    # Cholesky factor of (dense) Schur complement\n",
    "    Fc::Base.LinAlg.Cholesky{T,Array{T,2}}\n",
    "end"
   ]
  },
  {
   "cell_type": "markdown",
   "metadata": {},
   "source": [
    "# Implicit Cholesky"
   ]
  },
  {
   "cell_type": "code",
   "execution_count": 5,
   "metadata": {},
   "outputs": [
    {
     "data": {
      "text/plain": [
       "SparseVector{Float64,Int64}"
      ]
     },
     "execution_count": 5,
     "metadata": {},
     "output_type": "execute_result"
    }
   ],
   "source": [
    "typeof(sprand(10, 0.1))"
   ]
  },
  {
   "cell_type": "code",
   "execution_count": null,
   "metadata": {
    "collapsed": true
   },
   "outputs": [],
   "source": [
    "\"\"\"\n",
    "    cholSparseBlockAngular(A, theta)\n",
    "\"\"\"\n",
    "function cholSparseBlockAngular(A::SparseBlockAngular{T}, theta::Array{T, 1}) where T\n",
    "    \n",
    "    # Schur complement\n",
    "    C = zeros(T, A.m, A.m)\n",
    "    \n",
    "    # diagonal\n",
    "    d = zeros(T, A.R)\n",
    "    eta = [spzeros(T, A.m) for r=1:R]  # columns of eta\n",
    "    \n",
    "    colidx = 1\n",
    "    for r=1:A.R\n",
    "        theta_ = theta[colidx:(colidx+A.ncols[r]-1)]\n",
    "        colidx += A.ncols[r]\n",
    "        \n",
    "        # diagonal elements\n",
    "        d[r] = oneunit(T) / sum(theta_)\n",
    "        \n",
    "        # lower factors\n",
    "        eta[r] = A.cols[r] * theta_\n",
    "        \n",
    "        # Schur complement\n",
    "        # TODO\n",
    "#         C += A.cols[r] * spdiagm(theta_) * A.cols[r]'\n",
    "#         C += (-d[r]) * (eta[r] * eta[r]')\n",
    "    end\n",
    "    \n",
    "    # coalesce eta\n",
    "    eta = hcat(eta...)\n",
    "    \n",
    "    # compute Cholesky factor of C\n",
    "    Fc = cholfact(Symmetric(C))\n",
    "    \n",
    "    # create implicit Cholesky factor\n",
    "    F = FactorSparseBlockAngular(A.m, A.n, A.R, A.ncols, d, eta, Fc)\n",
    "    \n",
    "    return F\n",
    "    \n",
    "end"
   ]
  }
 ],
 "metadata": {
  "kernelspec": {
   "display_name": "Julia 0.6.2",
   "language": "julia",
   "name": "julia-0.6"
  },
  "language_info": {
   "file_extension": ".jl",
   "mimetype": "application/julia",
   "name": "julia",
   "version": "0.6.2"
  }
 },
 "nbformat": 4,
 "nbformat_minor": 2
}
