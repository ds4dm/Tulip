{
 "cells": [
  {
   "cell_type": "code",
   "execution_count": 1,
   "metadata": {
    "collapsed": true
   },
   "outputs": [],
   "source": [
    "using BenchmarkTools"
   ]
  },
  {
   "cell_type": "markdown",
   "metadata": {},
   "source": [
    "# Custom linear algebra"
   ]
  },
  {
   "cell_type": "code",
   "execution_count": 2,
   "metadata": {},
   "outputs": [
    {
     "data": {
      "text/plain": [
       "CpBDBt!"
      ]
     },
     "execution_count": 2,
     "metadata": {},
     "output_type": "execute_result"
    }
   ],
   "source": [
    "\"\"\"\n",
    "    CpBDBt!(C, B, d)\n",
    "\n",
    "    Compute C += B*D*B'\n",
    "        where B' is the transpose of B, and D = diag(d1, ..., dn)\n",
    "        and B is mxn dense, C is mxm (dense), d is nx1 (dense).\n",
    "\n",
    "    C is modified in-place (no memory allocated),\n",
    "    only its upper-triangular part is modified.\n",
    "\"\"\"\n",
    "function CpBDBt!(C::Array{Float64,2}, B::Array{Float64, 2}, d::Array{Float64, 1})\n",
    "    \n",
    "    m, k = size(B)\n",
    "    \n",
    "    # TODO: remove @assert macro, and throw error instead\n",
    "    @assert (m, m) == size(C)\n",
    "    @assert (k,) == size(d)\n",
    "    \n",
    "    # compute symmetric rank-k update\n",
    "    # only the upper-triangular part of C is modified\n",
    "    temp::Float64 = 0.0\n",
    "    for j=1:m\n",
    "        for l = 1:k\n",
    "            @inbounds temp = d[l] * B[j, l]\n",
    "            if temp == 0.0\n",
    "                # skip loop if temp is zero\n",
    "                continue \n",
    "            end\n",
    "            for i=1:j\n",
    "                @inbounds C[i, j] = C[i, j] + temp * B[i, l]\n",
    "            end\n",
    "        end\n",
    "    end\n",
    "    \n",
    "    return nothing\n",
    "end"
   ]
  },
  {
   "cell_type": "markdown",
   "metadata": {},
   "source": [
    "# Data structure"
   ]
  },
  {
   "cell_type": "markdown",
   "metadata": {},
   "source": [
    "## Primal-block angular matrices\n",
    "\n",
    "$A$ is the constraint matrix of the RMP, of shape $m \\times n$ with $n = n_1 + ... + n_R$.\n",
    "\n",
    "$$\n",
    "    A = \n",
    "    \\left[\n",
    "    \\begin{array}{ccc}\n",
    "    e^{T} & & \\\\\n",
    "     & \\ddots & \\\\\n",
    "     & & e^{T}\\\\\n",
    "    A_{1} & \\cdots & A_{R}\\\\\n",
    "    \\end{array}\n",
    "    \\right]\n",
    "$$\n",
    "where $e^{T} = (1, ..., 1)$."
   ]
  },
  {
   "cell_type": "code",
   "execution_count": 3,
   "metadata": {},
   "outputs": [],
   "source": [
    "# Dense block-angular matrix\n",
    "# where matrices A_1, ..., A_R are stored as dense matrices\n",
    "struct DenseBlockAngular\n",
    "    m::Int  # number of linking constraints\n",
    "    n::Int  # number of columns (total)\n",
    "    \n",
    "    R::Int  # number of blocks\n",
    "    ncols::Array{Int64, 1}  # number of columns in each block [n_1, ..., n_{R}]\n",
    "\n",
    "    cols::Array{Array{Float64,2},1}  # columns [A_1, ..., A_R]\n",
    "end"
   ]
  },
  {
   "cell_type": "markdown",
   "metadata": {},
   "source": [
    "## Cholesky factors\n",
    "\n",
    "Normal equations write $A \\Theta A^{T} y = \\xi$, i.e., when expanding the block-structure:\n",
    "\n",
    "$$\n",
    "    \\left[\n",
    "    \\begin{array}{ccc|c}\n",
    "    e^{T} \\Theta_{1} e & & & e^{T} \\Theta_{1} A_{1}^{T}\\\\\n",
    "    & \\ddots && \\vdots\\\\\n",
    "    && e^{T} \\Theta_{R} e & e^{T} \\Theta_{R} A_{R}^{T}\\\\\n",
    "    \\hline\n",
    "    A_{1} \\Theta_{1} e & \\cdots & A_{1} \\Theta_{1} e & \\sum_{r} A_{r} \\Theta_{r} A_{r}^{T}\n",
    "    \\end{array}\n",
    "    \\right]\n",
    "    \\left[\n",
    "    \\begin{array}{l}\n",
    "    y_{1}\\\\\n",
    "    \\vdots\\\\\n",
    "    y_{R}\\\\\n",
    "    y_{0}\n",
    "    \\end{array}\n",
    "    \\right]\n",
    "    =\n",
    "    \\left[\n",
    "     \\begin{array}{l}\n",
    "    \\xi_{1}\\\\\n",
    "    \\vdots\\\\\n",
    "    \\xi_{R}\\\\\n",
    "    \\xi_{0}\n",
    "    \\end{array}\n",
    "    \\right]\n",
    "$$"
   ]
  },
  {
   "cell_type": "markdown",
   "metadata": {},
   "source": [
    "Let $\\Phi$ be the left-hand matrix of the above system.\n",
    "\n",
    "The Cholesky factorization $\\Phi = LDL^{T}$ is given by:\n",
    "\n",
    "$$\n",
    "    D = \n",
    "    \\left[\n",
    "    \\begin{array}{cccc}\n",
    "    d_{1} & & & \\\\\n",
    "     & \\ddots & &  \\\\\n",
    "     & & d_{R}& \\\\\n",
    "    &  &  & D_{C}\\\\\n",
    "    \\end{array}\n",
    "    \\right]\n",
    "    \\ \\ \n",
    "    and \\ \\ \n",
    "    L =\n",
    "    \\left[\n",
    "    \\begin{array}{cccc}\n",
    "    1 & & & \\\\\n",
    "     & \\ddots & & \\\\\n",
    "     & & 1 & \\\\\n",
    "    d_{1}^{-1} \\eta_{1} & \\cdots & d_{R}^{-1} \\eta_{R} & L_{C}\\\\\n",
    "    \\end{array}\n",
    "    \\right]\n",
    "$$\n",
    "where:\n",
    "\n",
    "\\begin{align}\n",
    "d_{r} &= e^{T} \\Theta_{r} e\\\\\n",
    "\\eta_{r} &= A_{r} \\Theta_{r} e\\\\\n",
    "C &= \\sum_{r} A_{r} \\Theta_{r} A_{r}^{T} - \\sum_{r} d_{r}^{-1} \\eta_{r} \\eta_{r}^{T}\\\\\n",
    "&= L_{C} D_{C} L_{C}^{T}\n",
    "\\end{align}\n"
   ]
  },
  {
   "cell_type": "code",
   "execution_count": 4,
   "metadata": {
    "collapsed": true
   },
   "outputs": [],
   "source": [
    "# (Implicit) Cholesky factor of ADA' where A is primal block-angular\n",
    "mutable struct FactorBlockAngular\n",
    "    m::Int  # number of linking constraints\n",
    "    n::Int  # number of columns (total)\n",
    "    R::Int  # number of blocks\n",
    "    ncols::Array{Int64, 1}  # number of columns in each block [n_1, ..., n_{R}]\n",
    "    \n",
    "    \n",
    "    d::Array{Float64, 1}  # Rx1 vector\n",
    "    eta::Array{Float64, 2}  # mxR matrix\n",
    "    \n",
    "#     # Schur complement\n",
    "#     C::Array{Float64, 2}\n",
    "    # Cholesky factor of (dense) Schur complement\n",
    "    Fc::Base.LinAlg.Cholesky{Float64,Array{Float64,2}}\n",
    "end"
   ]
  },
  {
   "cell_type": "code",
   "execution_count": 5,
   "metadata": {},
   "outputs": [
    {
     "data": {
      "text/plain": [
       "cholBlockAngular (generic function with 1 method)"
      ]
     },
     "execution_count": 5,
     "metadata": {},
     "output_type": "execute_result"
    }
   ],
   "source": [
    "\"\"\"\n",
    "    cholBlockAngular(A, F)\n",
    "\"\"\"\n",
    "\n",
    "function cholBlockAngular!(A::DenseBlockAngular, theta::Array{Float64,1}, F::FactorBlockAngular)\n",
    "    \n",
    "    # Schur complement\n",
    "    C = zeros(A.m, A.m)\n",
    "    \n",
    "    colidx = 1\n",
    "    for i=1:A.R\n",
    "        theta_ = theta[colidx:colidx+A.ncols[i]-1]\n",
    "        colidx += A.ncols[i]\n",
    "        \n",
    "        # diagonal elements\n",
    "        F.d[i] = 1. / sum(theta_)\n",
    "        \n",
    "        # lower factors\n",
    "        F.eta[:, i] = A.cols[i] * theta_\n",
    "        \n",
    "        # Schur complement\n",
    "        CpBDBt!(C, A.cols[i], theta_)\n",
    "        Base.BLAS.syr!('U', -F.d[i], F.eta[:, i], C)\n",
    "    end\n",
    "    \n",
    "    # compute Cholesky factor of C\n",
    "    F.Fc = cholfact(Symmetric(C))\n",
    "        \n",
    "    return nothing\n",
    "end\n",
    "\n",
    "function cholBlockAngular(A::DenseBlockAngular, theta::Array{Float64,1})\n",
    "    \n",
    "    # Schur complement\n",
    "    C = zeros(A.m, A.m)\n",
    "    d = zeros(A.R)\n",
    "    eta = zeros(A.m, A.R)\n",
    "    \n",
    "    colidx = 1\n",
    "    for i=1:A.R\n",
    "        theta_ = theta[colidx:(colidx+A.ncols[i]-1)]\n",
    "        colidx += A.ncols[i]\n",
    "        \n",
    "        # diagonal elements\n",
    "        d[i] = 1. / sum(theta_)\n",
    "        \n",
    "        # lower factors\n",
    "        eta[:, i] = A.cols[i] * theta_\n",
    "        \n",
    "        # Schur complement\n",
    "        CpBDBt!(C, A.cols[i], theta_)\n",
    "        Base.BLAS.syr!('U', -d[i], eta[:, i], C)\n",
    "        \n",
    "    end\n",
    "    \n",
    "    # compute Cholesky factor of C\n",
    "    Fc = cholfact(Symmetric(C))\n",
    "    \n",
    "    # create implicit Cholesky factor\n",
    "    F = FactorBlockAngular(A.m, A.n, A.R, A.ncols, d, eta, Fc)\n",
    "    \n",
    "    return F\n",
    "end"
   ]
  },
  {
   "cell_type": "markdown",
   "metadata": {},
   "source": [
    "## Solving the normal equations\n",
    "\n",
    "Once the Cholesky factorization is known, the normal equations are solved as follows:\n",
    "\n",
    "\\begin{align}\n",
    "y_{0} &= C \\setminus \\left( \\xi_{0} - \\sum_{r} \\xi_{r} d_{r}^{-1} \\eta_{r} \\right)\\\\\n",
    "\\forall r, \\ \\ \\ y_{r} & = d_{r}^{-1}(\\xi_{r} - \\eta_{r}^{T}y_{0})\n",
    "\\end{align}"
   ]
  },
  {
   "cell_type": "code",
   "execution_count": 6,
   "metadata": {},
   "outputs": [
    {
     "data": {
      "text/plain": [
       "solvene!"
      ]
     },
     "execution_count": 6,
     "metadata": {},
     "output_type": "execute_result"
    }
   ],
   "source": [
    "\"\"\"\n",
    "    solvene!(F, b, y)\n",
    "\n",
    "    Solve normal equations (A*D*A') y = b,\n",
    "    where A is primal block-angular and F is the factor of (A*D*A')\n",
    "\n",
    "    The solution is returned in `y`, which is modified in-place.\n",
    "\"\"\"\n",
    "\n",
    "function solvene!(F::FactorBlockAngular, b::Array{Float64, 1}, y::Array{Float64,1})\n",
    "    \n",
    "    # right-hand side for global solve (y0)\n",
    "    rhs = zeros(F.m)\n",
    "    for i=1:m\n",
    "        rhs[i] = b[R+i]\n",
    "    end\n",
    "    \n",
    "    # compute right-hand side\n",
    "    for r=1:F.R\n",
    "        Base.BLAS.axpy!(-F.d[r] * b[r], F.eta[:, r], rhs)\n",
    "    end\n",
    "    \n",
    "    # compute y0\n",
    "    y0 = F.Fc \\ rhs\n",
    "    for i=1:m\n",
    "        y[R+i] = y0[i]\n",
    "    end\n",
    "    \n",
    "    # local backward pass\n",
    "    for r=1:R\n",
    "        y[r] = F.d[r] * (b[r] - dot(F.eta[:, r], y0))\n",
    "    end\n",
    "    \n",
    "    return nothing\n",
    "end"
   ]
  },
  {
   "cell_type": "markdown",
   "metadata": {},
   "source": [
    "# Numerical tests"
   ]
  },
  {
   "cell_type": "code",
   "execution_count": 7,
   "metadata": {
    "collapsed": true
   },
   "outputs": [],
   "source": [
    "# Number of threads used b BLAS\n",
    "Base.LinAlg.BLAS.set_num_threads(1)"
   ]
  },
  {
   "cell_type": "code",
   "execution_count": 8,
   "metadata": {},
   "outputs": [
    {
     "data": {
      "text/plain": [
       "generate_instance (generic function with 2 methods)"
      ]
     },
     "execution_count": 8,
     "metadata": {},
     "output_type": "execute_result"
    }
   ],
   "source": [
    "function generate_instance(m, n, R, p, sp=false)\n",
    "    \n",
    "    if sp\n",
    "        A_ = sprand(m, n*R, p);\n",
    "    else\n",
    "        A_ = rand(m, n*R);\n",
    "    end\n",
    "\n",
    "    # for the list of sparse matrices\n",
    "    B_ = [A_[:, 1+n*(r-1):n*r] for r=1:R];\n",
    "    \n",
    "    e = kron(speye(R), sparse(ones(1, n)));\n",
    "    A = vcat(e, A_);\n",
    "    \n",
    "    # diagonal matrix\n",
    "    theta = rand(n*R);\n",
    "    \n",
    "    # right-hand side\n",
    "    b = rand(R+m);\n",
    "    \n",
    "    return A, B_, theta, b\n",
    "end"
   ]
  },
  {
   "cell_type": "code",
   "execution_count": 9,
   "metadata": {},
   "outputs": [
    {
     "name": "stdout",
     "output_type": "stream",
     "text": [
      "Linking constraints: 96\n",
      "Number of resources: 8192\n",
      "Columns (total)    : 1048576\n"
     ]
    }
   ],
   "source": [
    "m = 96\n",
    "R = 8192\n",
    "ncols = [128 for i=1:R]\n",
    "n = sum(ncols)\n",
    "println(\"Linking constraints: \", m)\n",
    "println(\"Number of resources: \", R)\n",
    "println(\"Columns (total)    : \", n)"
   ]
  },
  {
   "cell_type": "code",
   "execution_count": 10,
   "metadata": {},
   "outputs": [],
   "source": [
    "A, B_, theta, b = generate_instance(m, ncols[1], R, 0.0001, false);"
   ]
  },
  {
   "cell_type": "code",
   "execution_count": 11,
   "metadata": {
    "collapsed": true
   },
   "outputs": [],
   "source": [
    "# change conditionning to make it very bad\n",
    "# If master problem is non-degenrate, there should be ~ m+R non-zero variables\n",
    "for i=1:n\n",
    "    if rand() < (m+R) / (n)\n",
    "        theta[i] *= 10.0^8\n",
    "    else\n",
    "        theta[i] *= 10.0^-8\n",
    "    end\n",
    "end"
   ]
  },
  {
   "cell_type": "markdown",
   "metadata": {},
   "source": [
    "## Naive implementation"
   ]
  },
  {
   "cell_type": "code",
   "execution_count": 12,
   "metadata": {},
   "outputs": [
    {
     "name": "stdout",
     "output_type": "stream",
     "text": [
      " 16.165078 seconds (3.37 M allocations: 4.340 GiB, 0.92% gc time)\n"
     ]
    }
   ],
   "source": [
    "@time S_ = Symmetric(A * spdiagm(theta)*A');"
   ]
  },
  {
   "cell_type": "code",
   "execution_count": 13,
   "metadata": {},
   "outputs": [
    {
     "name": "stdout",
     "output_type": "stream",
     "text": [
      "  0.323088 seconds (78.28 k allocations: 121.579 MiB)\n"
     ]
    }
   ],
   "source": [
    "@time F_ = cholfact(S_);"
   ]
  },
  {
   "cell_type": "code",
   "execution_count": 14,
   "metadata": {},
   "outputs": [
    {
     "name": "stdout",
     "output_type": "stream",
     "text": [
      "  0.057739 seconds (22.26 k allocations: 1.446 MiB)\n"
     ]
    }
   ],
   "source": [
    "@time y_ = F_ \\ b;"
   ]
  },
  {
   "cell_type": "markdown",
   "metadata": {},
   "source": [
    "## Specialized Cholesky"
   ]
  },
  {
   "cell_type": "code",
   "execution_count": 15,
   "metadata": {},
   "outputs": [
    {
     "name": "stdout",
     "output_type": "stream",
     "text": [
      "  0.003900 seconds (871 allocations: 50.121 KiB)\n"
     ]
    }
   ],
   "source": [
    "# create block-angular matrix\n",
    "@time A_block = DenseBlockAngular(m, n, R, ncols, B_);"
   ]
  },
  {
   "cell_type": "code",
   "execution_count": 16,
   "metadata": {},
   "outputs": [
    {
     "name": "stdout",
     "output_type": "stream",
     "text": [
      "  1.746110 seconds (167.24 k allocations: 35.652 MiB)\n"
     ]
    }
   ],
   "source": [
    "# compute Cholesky factorization\n",
    "@time F = cholBlockAngular(A_block, theta);"
   ]
  },
  {
   "cell_type": "code",
   "execution_count": 17,
   "metadata": {},
   "outputs": [
    {
     "name": "stdout",
     "output_type": "stream",
     "text": [
      "  0.091991 seconds (272.62 k allocations: 20.930 MiB)\n"
     ]
    }
   ],
   "source": [
    "# solve normal equations\n",
    "y = zeros(A_block.m+A_block.R)\n",
    "@time solvene!(F, b, y)"
   ]
  },
  {
   "cell_type": "markdown",
   "metadata": {},
   "source": [
    "## Compare results"
   ]
  },
  {
   "cell_type": "code",
   "execution_count": 18,
   "metadata": {},
   "outputs": [
    {
     "data": {
      "text/plain": [
       "1.3969838619232178e-9"
      ]
     },
     "execution_count": 18,
     "metadata": {},
     "output_type": "execute_result"
    }
   ],
   "source": [
    "# distance between two results\n",
    "maximum(abs.(y - y_))"
   ]
  },
  {
   "cell_type": "code",
   "execution_count": 19,
   "metadata": {},
   "outputs": [
    {
     "name": "stdout",
     "output_type": "stream",
     "text": [
      "Naive: 1.8697853931826103e-8\n",
      "Spec : 1.2746131483609702e-8\n"
     ]
    }
   ],
   "source": [
    "# residual norm\n",
    "println(\"Naive: \", maximum(abs.(S_*y_ - b)))\n",
    "println(\"Spec : \", maximum(abs.(S_ * y - b)))"
   ]
  }
 ],
 "metadata": {
  "kernelspec": {
   "display_name": "Julia 0.6.2",
   "language": "julia",
   "name": "julia-0.6"
  },
  "language_info": {
   "file_extension": ".jl",
   "mimetype": "application/julia",
   "name": "julia",
   "version": "0.6.2"
  }
 },
 "nbformat": 4,
 "nbformat_minor": 2
}
