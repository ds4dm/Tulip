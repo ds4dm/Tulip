{
 "cells": [
  {
   "cell_type": "code",
   "execution_count": null,
   "metadata": {
    "collapsed": true,
    "slideshow": {
     "slide_type": "slide"
    }
   },
   "outputs": [],
   "source": [
    "using BenchmarkTools\n",
    "Base.BLAS.set_num_threads(1)"
   ]
  },
  {
   "cell_type": "code",
   "execution_count": null,
   "metadata": {
    "collapsed": true,
    "slideshow": {
     "slide_type": "subslide"
    }
   },
   "outputs": [],
   "source": [
    "import MathProgBase\n",
    "const MPB = MathProgBase\n",
    "\n",
    "import Gurobi: GurobiSolver\n",
    "import Clp: ClpSolver\n",
    "import GLPKMathProgInterface: GLPKSolverLP\n",
    "import CPLEX: CplexSolver\n",
    "import Mosek: MosekSolver\n",
    "import OSQP"
   ]
  },
  {
   "cell_type": "code",
   "execution_count": null,
   "metadata": {},
   "outputs": [],
   "source": [
    "include(\"../test/benchmark.jl\")"
   ]
  },
  {
   "cell_type": "code",
   "execution_count": null,
   "metadata": {
    "slideshow": {
     "slide_type": "subslide"
    }
   },
   "outputs": [],
   "source": [
    "include(\"Tulip.jl\")"
   ]
  },
  {
   "cell_type": "code",
   "execution_count": null,
   "metadata": {},
   "outputs": [],
   "source": [
    "instance_sizes = [\n",
    "    (m, n, R)\n",
    "    for m in [24, 48, 96, 128, 256, 512]\n",
    "    for n in [4, 8, 16]\n",
    "    for R in [2^7, 2^10, 2^13, 2^16]\n",
    "    if m*n*R < 2^21\n",
    "]\n",
    "solvers = generate_solvers([:CPX, :GRB, :MSK, :TLP], time_limit=1200, verbose=0)\n",
    "seeds=[0];"
   ]
  },
  {
   "cell_type": "code",
   "execution_count": null,
   "metadata": {},
   "outputs": [],
   "source": [
    "res_filename = \"benchmark_\"*Dates.format(Dates.now(), \"yyyy-mm-ddTHH:MM:SS\")*\".csv\"\n",
    "# println(res_filename)\n",
    "benchmark([(2, 2, 4)], solvers, [0]);"
   ]
  },
  {
   "cell_type": "code",
   "execution_count": null,
   "metadata": {},
   "outputs": [],
   "source": [
    "results = benchmark([(24, 4, 1024), (96, 4, 8192)], solvers, seeds, resultsfile=res_filename);"
   ]
  },
  {
   "cell_type": "code",
   "execution_count": null,
   "metadata": {
    "collapsed": true,
    "slideshow": {
     "slide_type": "skip"
    }
   },
   "outputs": [],
   "source": [
    "m, n, c, b, A, lb, ub, ranges = Tulip.readmps(\"../dat/netlib/AFIRO.SIF\");\n",
    "# m, n, c, b, A, lb, ub, ranges = Tulip.readmps(\"../dat/netlib/MAROS-R7.SIF\");\n",
    "colub_ind = Vector{Int}()\n",
    "colub_val = Vector{Float64}()\n",
    "A_ = A;"
   ]
  }
 ],
 "metadata": {
  "kernelspec": {
   "display_name": "Julia 0.6.2",
   "language": "julia",
   "name": "julia-0.6"
  },
  "language_info": {
   "file_extension": ".jl",
   "mimetype": "application/julia",
   "name": "julia",
   "version": "0.6.2"
  }
 },
 "nbformat": 4,
 "nbformat_minor": 2
}
